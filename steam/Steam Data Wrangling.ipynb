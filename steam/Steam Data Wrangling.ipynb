{
 "cells": [
  {
   "cell_type": "code",
   "execution_count": 7,
   "id": "d381e3d5",
   "metadata": {},
   "outputs": [],
   "source": [
    "import requests\n",
    "import pandas as pd"
   ]
  },
  {
   "cell_type": "code",
   "execution_count": 82,
   "id": "512dd3ad",
   "metadata": {},
   "outputs": [],
   "source": [
    "def all(page=0):\n",
    "    url = f\"https://steamspy.com/api.php?request=all&page={page}\"\n",
    "    r = requests.get(url)\n",
    "    return pd.read_json(r.text).T"
   ]
  },
  {
   "cell_type": "code",
   "execution_count": 84,
   "id": "7e26a570",
   "metadata": {},
   "outputs": [],
   "source": [
    "df = all(0)\n",
    "for page in range(1, 60):\n",
    "    p = all(page)\n",
    "    df = pd.concat([df, p])"
   ]
  },
  {
   "cell_type": "code",
   "execution_count": 45,
   "id": "dc309f6c",
   "metadata": {},
   "outputs": [],
   "source": [
    "df.to_pickle(\"steam.pkl\")"
   ]
  },
  {
   "cell_type": "code",
   "execution_count": null,
   "id": "4ff72632",
   "metadata": {},
   "outputs": [],
   "source": []
  }
 ],
 "metadata": {
  "kernelspec": {
   "display_name": "Python 3 (ipykernel)",
   "language": "python",
   "name": "python3"
  },
  "language_info": {
   "codemirror_mode": {
    "name": "ipython",
    "version": 3
   },
   "file_extension": ".py",
   "mimetype": "text/x-python",
   "name": "python",
   "nbconvert_exporter": "python",
   "pygments_lexer": "ipython3",
   "version": "3.10.6"
  }
 },
 "nbformat": 4,
 "nbformat_minor": 5
}
