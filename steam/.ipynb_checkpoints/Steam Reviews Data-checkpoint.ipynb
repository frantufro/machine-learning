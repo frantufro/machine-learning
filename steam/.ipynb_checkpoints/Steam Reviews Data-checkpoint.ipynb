{
 "cells": [
  {
   "cell_type": "markdown",
   "id": "795befb6-09bc-4194-bd6f-e820d5b37c8b",
   "metadata": {},
   "source": [
    "# Steam Reviews"
   ]
  },
  {
   "cell_type": "code",
   "execution_count": 1,
   "id": "dbce8627-3de3-4863-9830-296aa058e388",
   "metadata": {},
   "outputs": [],
   "source": [
    "import requests\n",
    "import pandas as pd\n",
    "from bs4 import BeautifulSoup"
   ]
  },
  {
   "cell_type": "code",
   "execution_count": null,
   "id": "f857ab20-2503-4dad-93bd-09675cb7cee8",
   "metadata": {},
   "outputs": [],
   "source": [
    "def get_steam_reviews_page(appid):\n",
    "    return BeautifulSoup(\n",
    "        requests.get(f\"https://store.steampowered.com/app/{appid}\").text, \n",
    "        \"html.parser\"\n",
    "    )\n",
    "\n",
    "doc = get_steamdb_page(10)"
   ]
  }
 ],
 "metadata": {
  "kernelspec": {
   "display_name": "Python 3 (ipykernel)",
   "language": "python",
   "name": "python3"
  },
  "language_info": {
   "codemirror_mode": {
    "name": "ipython",
    "version": 3
   },
   "file_extension": ".py",
   "mimetype": "text/x-python",
   "name": "python",
   "nbconvert_exporter": "python",
   "pygments_lexer": "ipython3",
   "version": "3.8.9"
  }
 },
 "nbformat": 4,
 "nbformat_minor": 5
}
