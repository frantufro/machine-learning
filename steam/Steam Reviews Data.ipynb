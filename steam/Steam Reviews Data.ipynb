{
 "cells": [
  {
   "cell_type": "markdown",
   "id": "795befb6-09bc-4194-bd6f-e820d5b37c8b",
   "metadata": {},
   "source": [
    "# Steam Reviews"
   ]
  },
  {
   "cell_type": "code",
   "execution_count": 70,
   "id": "dbce8627-3de3-4863-9830-296aa058e388",
   "metadata": {},
   "outputs": [],
   "source": [
    "import requests\n",
    "import pandas as pd\n",
    "from bs4 import BeautifulSoup\n",
    "import re"
   ]
  },
  {
   "cell_type": "code",
   "execution_count": 71,
   "id": "f857ab20-2503-4dad-93bd-09675cb7cee8",
   "metadata": {},
   "outputs": [],
   "source": [
    "def get_steam_reviews_page(appid, page):\n",
    "    return requests.get(f\"https://steamcommunity.com/app/{appid}/reviews/?browsefilter=toprated&snr=1_5_100010_&filterLanguage=english#scrollTop=0\").text\n",
    "\n"
   ]
  },
  {
   "cell_type": "code",
   "execution_count": 84,
   "id": "faddc7eb-cd81-4925-b9bb-2e1f5266a9c5",
   "metadata": {},
   "outputs": [
    {
     "name": "stdout",
     "output_type": "stream",
     "text": [
      "URL: https://steamcommunity.com/app/10/homecontent/?userreviewscursor=AoIIP2iApnzon0c=%3D&userreviewsoffset=10&p=1&workshopitemspage=1&readytouseitemspage=1&mtxitemspage=1&itemspage=1&screenshotspage=1&videospage=1&artpage=1&allguidepage=1&webguidepage=1&integratedguidepage=1&discussionspage=1&numperpage=100&browsefilter=toprated&browsefilter=toprated&l=english&appHubSubSection=10&filterLanguage=english&searchText=&maxInappropriateScore=50\n"
     ]
    },
    {
     "ename": "TypeError",
     "evalue": "get() missing 1 required positional argument: 'url'",
     "output_type": "error",
     "traceback": [
      "\u001b[0;31m---------------------------------------------------------------------------\u001b[0m",
      "\u001b[0;31mTypeError\u001b[0m                                 Traceback (most recent call last)",
      "Cell \u001b[0;32mIn[84], line 21\u001b[0m\n\u001b[1;32m     18\u001b[0m cursor \u001b[38;5;241m=\u001b[39m re\u001b[38;5;241m.\u001b[39mfindall(\u001b[38;5;124m\"\u001b[39m\u001b[38;5;124mname=\u001b[39m\u001b[38;5;130;01m\\\"\u001b[39;00m\u001b[38;5;124muserreviewscursor\u001b[39m\u001b[38;5;130;01m\\\"\u001b[39;00m\u001b[38;5;124m value=\u001b[39m\u001b[38;5;130;01m\\\"\u001b[39;00m\u001b[38;5;124m(................)\u001b[39m\u001b[38;5;130;01m\\\"\u001b[39;00m\u001b[38;5;124m>\u001b[39m\u001b[38;5;124m\"\u001b[39m, doc)[\u001b[38;5;241m0\u001b[39m]\n\u001b[1;32m     19\u001b[0m offset \u001b[38;5;241m=\u001b[39m re\u001b[38;5;241m.\u001b[39mfindall(\u001b[38;5;124m\"\u001b[39m\u001b[38;5;124m<input type=\u001b[39m\u001b[38;5;130;01m\\\"\u001b[39;00m\u001b[38;5;124mhidden\u001b[39m\u001b[38;5;130;01m\\\"\u001b[39;00m\u001b[38;5;124m name=\u001b[39m\u001b[38;5;130;01m\\\"\u001b[39;00m\u001b[38;5;124muserreviewsoffset\u001b[39m\u001b[38;5;130;01m\\\"\u001b[39;00m\u001b[38;5;124m value=\u001b[39m\u001b[38;5;130;01m\\\"\u001b[39;00m\u001b[38;5;124m(\u001b[39m\u001b[38;5;124m\\\u001b[39m\u001b[38;5;124md*)\u001b[39m\u001b[38;5;130;01m\\\"\u001b[39;00m\u001b[38;5;124m>\u001b[39m\u001b[38;5;124m\"\u001b[39m, doc)[\u001b[38;5;241m0\u001b[39m]\n\u001b[0;32m---> 21\u001b[0m doc \u001b[38;5;241m=\u001b[39m \u001b[43mget_reviews\u001b[49m\u001b[43m(\u001b[49m\u001b[38;5;241;43m10\u001b[39;49m\u001b[43m,\u001b[49m\u001b[43m \u001b[49m\u001b[38;5;241;43m1\u001b[39;49m\u001b[43m,\u001b[49m\u001b[43m \u001b[49m\u001b[43mcursor\u001b[49m\u001b[43m,\u001b[49m\u001b[43m \u001b[49m\u001b[43moffset\u001b[49m\u001b[43m)\u001b[49m\n\u001b[1;32m     23\u001b[0m \u001b[38;5;28mprint\u001b[39m(doc)\n\u001b[1;32m     24\u001b[0m \u001b[38;5;66;03m# reviews = append_reviews(doc, reviews)\u001b[39;00m\n\u001b[1;32m     25\u001b[0m \n\u001b[1;32m     26\u001b[0m \u001b[38;5;66;03m# reviews\u001b[39;00m\n",
      "Cell \u001b[0;32mIn[84], line 4\u001b[0m, in \u001b[0;36mget_reviews\u001b[0;34m(appid, page, cursor, offset)\u001b[0m\n\u001b[1;32m      2\u001b[0m url \u001b[38;5;241m=\u001b[39m \u001b[38;5;124mf\u001b[39m\u001b[38;5;124m\"\u001b[39m\u001b[38;5;124mhttps://steamcommunity.com/app/\u001b[39m\u001b[38;5;132;01m{\u001b[39;00mappid\u001b[38;5;132;01m}\u001b[39;00m\u001b[38;5;124m/homecontent/?userreviewscursor=\u001b[39m\u001b[38;5;132;01m{\u001b[39;00mcursor\u001b[38;5;132;01m}\u001b[39;00m\u001b[38;5;124m%3D&userreviewsoffset=\u001b[39m\u001b[38;5;132;01m{\u001b[39;00moffset\u001b[38;5;132;01m}\u001b[39;00m\u001b[38;5;124m&p=\u001b[39m\u001b[38;5;132;01m{\u001b[39;00mpage\u001b[38;5;132;01m}\u001b[39;00m\u001b[38;5;124m&workshopitemspage=\u001b[39m\u001b[38;5;132;01m{\u001b[39;00mpage\u001b[38;5;132;01m}\u001b[39;00m\u001b[38;5;124m&readytouseitemspage=\u001b[39m\u001b[38;5;132;01m{\u001b[39;00mpage\u001b[38;5;132;01m}\u001b[39;00m\u001b[38;5;124m&mtxitemspage=\u001b[39m\u001b[38;5;132;01m{\u001b[39;00mpage\u001b[38;5;132;01m}\u001b[39;00m\u001b[38;5;124m&itemspage=\u001b[39m\u001b[38;5;132;01m{\u001b[39;00mpage\u001b[38;5;132;01m}\u001b[39;00m\u001b[38;5;124m&screenshotspage=\u001b[39m\u001b[38;5;132;01m{\u001b[39;00mpage\u001b[38;5;132;01m}\u001b[39;00m\u001b[38;5;124m&videospage=\u001b[39m\u001b[38;5;132;01m{\u001b[39;00mpage\u001b[38;5;132;01m}\u001b[39;00m\u001b[38;5;124m&artpage=\u001b[39m\u001b[38;5;132;01m{\u001b[39;00mpage\u001b[38;5;132;01m}\u001b[39;00m\u001b[38;5;124m&allguidepage=\u001b[39m\u001b[38;5;132;01m{\u001b[39;00mpage\u001b[38;5;132;01m}\u001b[39;00m\u001b[38;5;124m&webguidepage=\u001b[39m\u001b[38;5;132;01m{\u001b[39;00mpage\u001b[38;5;132;01m}\u001b[39;00m\u001b[38;5;124m&integratedguidepage=\u001b[39m\u001b[38;5;132;01m{\u001b[39;00mpage\u001b[38;5;132;01m}\u001b[39;00m\u001b[38;5;124m&discussionspage=\u001b[39m\u001b[38;5;132;01m{\u001b[39;00mpage\u001b[38;5;132;01m}\u001b[39;00m\u001b[38;5;124m&numperpage=100&browsefilter=toprated&browsefilter=toprated&l=english&appHubSubSection=10&filterLanguage=english&searchText=&maxInappropriateScore=50\u001b[39m\u001b[38;5;124m\"\u001b[39m\n\u001b[1;32m      3\u001b[0m \u001b[38;5;28mprint\u001b[39m(\u001b[38;5;124m\"\u001b[39m\u001b[38;5;124mURL:\u001b[39m\u001b[38;5;124m\"\u001b[39m, url)\n\u001b[0;32m----> 4\u001b[0m \u001b[38;5;28;01mreturn\u001b[39;00m \u001b[43mrequests\u001b[49m\u001b[38;5;241;43m.\u001b[39;49m\u001b[43mget\u001b[49m\u001b[43m(\u001b[49m\u001b[43m)\u001b[49m\u001b[38;5;241m.\u001b[39mtext\n",
      "\u001b[0;31mTypeError\u001b[0m: get() missing 1 required positional argument: 'url'"
     ]
    }
   ],
   "source": [
    "\n",
    "def get_reviews(appid, page, cursor, offset):\n",
    "    url = f\"https://steamcommunity.com/app/{appid}/homecontent/?userreviewscursor={cursor}%3D&userreviewsoffset={offset}&p={page}&workshopitemspage={page}&readytouseitemspage={page}&mtxitemspage={page}&itemspage={page}&screenshotspage={page}&videospage={page}&artpage={page}&allguidepage={page}&webguidepage={page}&integratedguidepage={page}&discussionspage={page}&numperpage=100&browsefilter=toprated&browsefilter=toprated&l=english&appHubSubSection=10&filterLanguage=english&searchText=&maxInappropriateScore=50\"\n",
    "    print(\"URL:\", url)\n",
    "    return requests.get().text\n",
    "\n",
    "def append_reviews(text, reviews):\n",
    "    revs = re.findall(\"data-modal-content-url=\\\"(.*)/\\\"\", text)\n",
    "    for review in revs:\n",
    "        reviews.append(review)\n",
    "    return reviews\n",
    "\n",
    "doc = get_steam_reviews_page(10, 20)\n",
    "\n",
    "reviews = []\n",
    "\n",
    "reviews = append_reviews(doc, reviews)\n",
    "\n",
    "cursor = re.findall(\"name=\\\"userreviewscursor\\\" value=\\\"(................)\\\">\", doc)[0]\n",
    "offset = re.findall(\"<input type=\\\"hidden\\\" name=\\\"userreviewsoffset\\\" value=\\\"(\\d*)\\\">\", doc)[0]\n",
    "\n",
    "doc = get_reviews(10, 1, cursor, offset)\n",
    "\n",
    "print(doc)\n",
    "# reviews = append_reviews(doc, reviews)\n",
    "\n",
    "# reviews"
   ]
  }
 ],
 "metadata": {
  "kernelspec": {
   "display_name": "Python 3 (ipykernel)",
   "language": "python",
   "name": "python3"
  },
  "language_info": {
   "codemirror_mode": {
    "name": "ipython",
    "version": 3
   },
   "file_extension": ".py",
   "mimetype": "text/x-python",
   "name": "python",
   "nbconvert_exporter": "python",
   "pygments_lexer": "ipython3",
   "version": "3.8.9"
  }
 },
 "nbformat": 4,
 "nbformat_minor": 5
}
