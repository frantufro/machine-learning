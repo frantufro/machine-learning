{
 "cells": [
  {
   "cell_type": "code",
   "execution_count": 1,
   "id": "adb73493",
   "metadata": {},
   "outputs": [],
   "source": [
    "import pandas as pd\n",
    "from fastai.vision.all import *\n",
    "import posixpath"
   ]
  },
  {
   "cell_type": "code",
   "execution_count": 2,
   "id": "0a6b90a1",
   "metadata": {},
   "outputs": [],
   "source": [
    "path = Path(\"./hits/\")\n",
    "files = get_image_files(path)"
   ]
  },
  {
   "cell_type": "code",
   "execution_count": 3,
   "id": "131b0d7f",
   "metadata": {},
   "outputs": [
    {
     "data": {
      "text/plain": [
       "(#1238) [Path('hits/648800.jpg'),Path('hits/234650.jpg'),Path('hits/1343370.jpg'),Path('hits/1089350.jpg'),Path('hits/221260.jpg'),Path('hits/380600.jpg'),Path('hits/1030210.jpg'),Path('hits/270880.jpg'),Path('hits/955050.jpg'),Path('hits/933110.jpg')...]"
      ]
     },
     "execution_count": 3,
     "metadata": {},
     "output_type": "execute_result"
    }
   ],
   "source": [
    "files"
   ]
  },
  {
   "cell_type": "code",
   "execution_count": 4,
   "id": "7f549473",
   "metadata": {},
   "outputs": [],
   "source": [
    "def label_func(f): \n",
    "    result = df[df[\"appid\"] == int(posixpath.basename(f).split(\".\")[0])][\"reviews\"] > 5000\n",
    "    return result.bool()"
   ]
  },
  {
   "cell_type": "code",
   "execution_count": 5,
   "id": "be5f0e3a",
   "metadata": {},
   "outputs": [],
   "source": [
    "learn_inf = load_learner('headers/export.pkl')"
   ]
  },
  {
   "cell_type": "code",
   "execution_count": 6,
   "id": "defb9ff3",
   "metadata": {},
   "outputs": [
    {
     "data": {
      "text/html": [
       "\n",
       "<style>\n",
       "    /* Turns off some styling */\n",
       "    progress {\n",
       "        /* gets rid of default border in Firefox and Opera. */\n",
       "        border: none;\n",
       "        /* Needs to be in here for Safari polyfill so background images work as expected. */\n",
       "        background-size: auto;\n",
       "    }\n",
       "    progress:not([value]), progress:not([value])::-webkit-progress-bar {\n",
       "        background: repeating-linear-gradient(45deg, #7e7e7e, #7e7e7e 10px, #5c5c5c 10px, #5c5c5c 20px);\n",
       "    }\n",
       "    .progress-bar-interrupted, .progress-bar-interrupted::-webkit-progress-bar {\n",
       "        background: #F44336;\n",
       "    }\n",
       "</style>\n"
      ],
      "text/plain": [
       "<IPython.core.display.HTML object>"
      ]
     },
     "metadata": {},
     "output_type": "display_data"
    },
    {
     "data": {
      "text/html": [],
      "text/plain": [
       "<IPython.core.display.HTML object>"
      ]
     },
     "metadata": {},
     "output_type": "display_data"
    },
    {
     "data": {
      "text/plain": [
       "('True', TensorBase(1), TensorBase([4.5739e-09, 1.0000e+00]))"
      ]
     },
     "execution_count": 6,
     "metadata": {},
     "output_type": "execute_result"
    }
   ],
   "source": [
    "learn_inf.predict(files[100])\n",
    "    "
   ]
  },
  {
   "cell_type": "code",
   "execution_count": 7,
   "id": "f2cfb26a",
   "metadata": {},
   "outputs": [
    {
     "data": {
      "text/plain": [
       "Path('hits/444090.jpg')"
      ]
     },
     "execution_count": 7,
     "metadata": {},
     "output_type": "execute_result"
    }
   ],
   "source": [
    "files[100]"
   ]
  },
  {
   "cell_type": "code",
   "execution_count": 8,
   "id": "c50225a2",
   "metadata": {},
   "outputs": [],
   "source": [
    "df = pd.read_pickle(\"steam.pkl\")"
   ]
  },
  {
   "cell_type": "code",
   "execution_count": 9,
   "id": "b742e24c",
   "metadata": {},
   "outputs": [
    {
     "data": {
      "text/html": [
       "<div>\n",
       "<style scoped>\n",
       "    .dataframe tbody tr th:only-of-type {\n",
       "        vertical-align: middle;\n",
       "    }\n",
       "\n",
       "    .dataframe tbody tr th {\n",
       "        vertical-align: top;\n",
       "    }\n",
       "\n",
       "    .dataframe thead th {\n",
       "        text-align: right;\n",
       "    }\n",
       "</style>\n",
       "<table border=\"1\" class=\"dataframe\">\n",
       "  <thead>\n",
       "    <tr style=\"text-align: right;\">\n",
       "      <th></th>\n",
       "      <th>appid</th>\n",
       "      <th>name</th>\n",
       "      <th>developer</th>\n",
       "      <th>publisher</th>\n",
       "      <th>score_rank</th>\n",
       "      <th>positive</th>\n",
       "      <th>negative</th>\n",
       "      <th>userscore</th>\n",
       "      <th>owners</th>\n",
       "      <th>average_forever</th>\n",
       "      <th>average_2weeks</th>\n",
       "      <th>median_forever</th>\n",
       "      <th>median_2weeks</th>\n",
       "      <th>price</th>\n",
       "      <th>initialprice</th>\n",
       "      <th>discount</th>\n",
       "      <th>ccu</th>\n",
       "      <th>reviews</th>\n",
       "    </tr>\n",
       "  </thead>\n",
       "  <tbody>\n",
       "    <tr>\n",
       "      <th>1089350</th>\n",
       "      <td>1089350</td>\n",
       "      <td>NBA 2K20</td>\n",
       "      <td>Visual Concepts</td>\n",
       "      <td>2K</td>\n",
       "      <td></td>\n",
       "      <td>30551</td>\n",
       "      <td>30382</td>\n",
       "      <td>0</td>\n",
       "      <td>5,000,000 .. 10,000,000</td>\n",
       "      <td>7239</td>\n",
       "      <td>0</td>\n",
       "      <td>2513</td>\n",
       "      <td>0</td>\n",
       "      <td>0</td>\n",
       "      <td>0</td>\n",
       "      <td>0</td>\n",
       "      <td>1216</td>\n",
       "      <td>60933</td>\n",
       "    </tr>\n",
       "  </tbody>\n",
       "</table>\n",
       "</div>"
      ],
      "text/plain": [
       "           appid      name        developer publisher score_rank positive  \\\n",
       "1089350  1089350  NBA 2K20  Visual Concepts        2K               30551   \n",
       "\n",
       "        negative userscore                   owners average_forever  \\\n",
       "1089350    30382         0  5,000,000 .. 10,000,000            7239   \n",
       "\n",
       "        average_2weeks median_forever median_2weeks price initialprice  \\\n",
       "1089350              0           2513             0     0            0   \n",
       "\n",
       "        discount   ccu reviews  \n",
       "1089350        0  1216   60933  "
      ]
     },
     "execution_count": 9,
     "metadata": {},
     "output_type": "execute_result"
    }
   ],
   "source": [
    "df[df.appid == 1089350]"
   ]
  },
  {
   "cell_type": "code",
   "execution_count": 22,
   "id": "e0b77566",
   "metadata": {},
   "outputs": [
    {
     "data": {
      "text/html": [
       "<div>\n",
       "<style scoped>\n",
       "    .dataframe tbody tr th:only-of-type {\n",
       "        vertical-align: middle;\n",
       "    }\n",
       "\n",
       "    .dataframe tbody tr th {\n",
       "        vertical-align: top;\n",
       "    }\n",
       "\n",
       "    .dataframe thead th {\n",
       "        text-align: right;\n",
       "    }\n",
       "</style>\n",
       "<table border=\"1\" class=\"dataframe\">\n",
       "  <thead>\n",
       "    <tr style=\"text-align: right;\">\n",
       "      <th></th>\n",
       "      <th>appid</th>\n",
       "      <th>name</th>\n",
       "      <th>developer</th>\n",
       "      <th>publisher</th>\n",
       "      <th>score_rank</th>\n",
       "      <th>positive</th>\n",
       "      <th>negative</th>\n",
       "      <th>userscore</th>\n",
       "      <th>owners</th>\n",
       "      <th>average_forever</th>\n",
       "      <th>average_2weeks</th>\n",
       "      <th>median_forever</th>\n",
       "      <th>median_2weeks</th>\n",
       "      <th>price</th>\n",
       "      <th>initialprice</th>\n",
       "      <th>discount</th>\n",
       "      <th>ccu</th>\n",
       "      <th>reviews</th>\n",
       "    </tr>\n",
       "  </thead>\n",
       "  <tbody>\n",
       "    <tr>\n",
       "      <th>414160</th>\n",
       "      <td>414160</td>\n",
       "      <td>Nubarron: The adventure of an unlucky gnome</td>\n",
       "      <td>Nastycloud</td>\n",
       "      <td>Hidden People Club</td>\n",
       "      <td></td>\n",
       "      <td>426</td>\n",
       "      <td>244</td>\n",
       "      <td>0</td>\n",
       "      <td>50,000 .. 100,000</td>\n",
       "      <td>0</td>\n",
       "      <td>0</td>\n",
       "      <td>0</td>\n",
       "      <td>0</td>\n",
       "      <td>999</td>\n",
       "      <td>999</td>\n",
       "      <td>0</td>\n",
       "      <td>2</td>\n",
       "      <td>670</td>\n",
       "    </tr>\n",
       "  </tbody>\n",
       "</table>\n",
       "</div>"
      ],
      "text/plain": [
       "         appid                                         name   developer  \\\n",
       "414160  414160  Nubarron: The adventure of an unlucky gnome  Nastycloud   \n",
       "\n",
       "                 publisher score_rank positive negative userscore  \\\n",
       "414160  Hidden People Club                 426      244         0   \n",
       "\n",
       "                   owners average_forever average_2weeks median_forever  \\\n",
       "414160  50,000 .. 100,000               0              0              0   \n",
       "\n",
       "       median_2weeks price initialprice discount ccu reviews  \n",
       "414160             0   999          999        0   2     670  "
      ]
     },
     "execution_count": 22,
     "metadata": {},
     "output_type": "execute_result"
    }
   ],
   "source": [
    "df[df.appid == 414160]"
   ]
  },
  {
   "cell_type": "code",
   "execution_count": 23,
   "id": "733d1196",
   "metadata": {},
   "outputs": [],
   "source": [
    "headers = files = get_image_files(\"headers\")"
   ]
  },
  {
   "cell_type": "code",
   "execution_count": 26,
   "id": "7b459e8f",
   "metadata": {},
   "outputs": [
    {
     "data": {
      "text/html": [
       "\n",
       "<style>\n",
       "    /* Turns off some styling */\n",
       "    progress {\n",
       "        /* gets rid of default border in Firefox and Opera. */\n",
       "        border: none;\n",
       "        /* Needs to be in here for Safari polyfill so background images work as expected. */\n",
       "        background-size: auto;\n",
       "    }\n",
       "    progress:not([value]), progress:not([value])::-webkit-progress-bar {\n",
       "        background: repeating-linear-gradient(45deg, #7e7e7e, #7e7e7e 10px, #5c5c5c 10px, #5c5c5c 20px);\n",
       "    }\n",
       "    .progress-bar-interrupted, .progress-bar-interrupted::-webkit-progress-bar {\n",
       "        background: #F44336;\n",
       "    }\n",
       "</style>\n"
      ],
      "text/plain": [
       "<IPython.core.display.HTML object>"
      ]
     },
     "metadata": {},
     "output_type": "display_data"
    },
    {
     "data": {
      "text/html": [],
      "text/plain": [
       "<IPython.core.display.HTML object>"
      ]
     },
     "metadata": {},
     "output_type": "display_data"
    },
    {
     "data": {
      "text/plain": [
       "('False', TensorBase(0), TensorBase([0.9981, 0.0019]))"
      ]
     },
     "execution_count": 26,
     "metadata": {},
     "output_type": "execute_result"
    }
   ],
   "source": []
  },
  {
   "cell_type": "code",
   "execution_count": null,
   "id": "88587d93",
   "metadata": {},
   "outputs": [],
   "source": []
  }
 ],
 "metadata": {
  "kernelspec": {
   "display_name": "Python 3 (ipykernel)",
   "language": "python",
   "name": "python3"
  },
  "language_info": {
   "codemirror_mode": {
    "name": "ipython",
    "version": 3
   },
   "file_extension": ".py",
   "mimetype": "text/x-python",
   "name": "python",
   "nbconvert_exporter": "python",
   "pygments_lexer": "ipython3",
   "version": "3.10.6"
  }
 },
 "nbformat": 4,
 "nbformat_minor": 5
}
