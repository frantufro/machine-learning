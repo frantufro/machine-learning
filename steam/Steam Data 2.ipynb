{
 "cells": [
  {
   "cell_type": "markdown",
   "id": "86dd2e42-6232-456a-bd76-207ba721beb7",
   "metadata": {},
   "source": [
    "# Steam Data\n",
    "\n",
    "In this notebook I'm adding all the methods required to download game data."
   ]
  },
  {
   "cell_type": "markdown",
   "id": "8192cd9f-547f-4c95-98e7-fa740aeaa7b7",
   "metadata": {
    "tags": []
   },
   "source": [
    "## appids, name and last_modified\n",
    "I want to start by downloading all the information that Steam provides about a game in their API.\n",
    "We do this by calling the IStoreService/GetAppList API endpoint. \n",
    "This returns a maximum of 50k appids. So we need to iterate through multiple pages to download all appids.\n",
    "\n",
    "Whenever we want to update our data, we can start from the last app id from our dataframe."
   ]
  },
  {
   "cell_type": "code",
   "execution_count": 2,
   "id": "21f0d712-d9ed-4983-b52a-df3714744542",
   "metadata": {},
   "outputs": [
    {
     "name": "stdout",
     "output_type": "stream",
     "text": [
      "Requirement already satisfied: pandas in /Users/frantufro/mambaforge/lib/python3.10/site-packages (1.5.2)\n",
      "Requirement already satisfied: pytz>=2020.1 in /Users/frantufro/mambaforge/lib/python3.10/site-packages (from pandas) (2022.6)\n",
      "Requirement already satisfied: python-dateutil>=2.8.1 in /Users/frantufro/mambaforge/lib/python3.10/site-packages (from pandas) (2.8.2)\n",
      "Requirement already satisfied: numpy>=1.21.0 in /Users/frantufro/mambaforge/lib/python3.10/site-packages (from pandas) (1.23.5)\n",
      "Requirement already satisfied: six>=1.5 in /Users/frantufro/mambaforge/lib/python3.10/site-packages (from python-dateutil>=2.8.1->pandas) (1.16.0)\n",
      "Requirement already satisfied: beautifulsoup4 in /Users/frantufro/mambaforge/lib/python3.10/site-packages (4.11.1)\n",
      "Requirement already satisfied: soupsieve>1.2 in /Users/frantufro/mambaforge/lib/python3.10/site-packages (from beautifulsoup4) (2.3.2.post1)\n"
     ]
    }
   ],
   "source": [
    "!pip install pandas\n",
    "!pip install beautifulsoup4"
   ]
  },
  {
   "cell_type": "code",
   "execution_count": 10,
   "id": "6364aae8-d5aa-4b3c-9084-aec350a6512b",
   "metadata": {},
   "outputs": [],
   "source": [
    "import requests\n",
    "import json\n",
    "import pandas as pd\n",
    "import numpy as np\n",
    "from bs4 import BeautifulSoup"
   ]
  },
  {
   "cell_type": "code",
   "execution_count": 3,
   "id": "7889859d-2df7-4e98-be46-f889dcb0dc45",
   "metadata": {},
   "outputs": [],
   "source": [
    "STEAMAPIS_KEY=\"fD9Ddf9K93IJtVk3PbYySF0ghxU\" # Key for https://steamapis.com/\n",
    "STEAM_API_KEY=\"EE167EC066B7A3EBB2F6B2392E72AD42\" # Key for https://api.steampowered.com/"
   ]
  },
  {
   "cell_type": "code",
   "execution_count": 14,
   "id": "668c0bcb-ec88-47ce-924b-02beb62be340",
   "metadata": {},
   "outputs": [
    {
     "data": {
      "text/html": [
       "<div>\n",
       "<style scoped>\n",
       "    .dataframe tbody tr th:only-of-type {\n",
       "        vertical-align: middle;\n",
       "    }\n",
       "\n",
       "    .dataframe tbody tr th {\n",
       "        vertical-align: top;\n",
       "    }\n",
       "\n",
       "    .dataframe thead th {\n",
       "        text-align: right;\n",
       "    }\n",
       "</style>\n",
       "<table border=\"1\" class=\"dataframe\">\n",
       "  <thead>\n",
       "    <tr style=\"text-align: right;\">\n",
       "      <th></th>\n",
       "      <th>appid</th>\n",
       "      <th>name</th>\n",
       "      <th>last_modified</th>\n",
       "      <th>price_change_number</th>\n",
       "    </tr>\n",
       "  </thead>\n",
       "  <tbody>\n",
       "    <tr>\n",
       "      <th>0</th>\n",
       "      <td>10</td>\n",
       "      <td>Counter-Strike</td>\n",
       "      <td>1666823513</td>\n",
       "      <td>16899276</td>\n",
       "    </tr>\n",
       "    <tr>\n",
       "      <th>1</th>\n",
       "      <td>20</td>\n",
       "      <td>Team Fortress Classic</td>\n",
       "      <td>1579634708</td>\n",
       "      <td>16899276</td>\n",
       "    </tr>\n",
       "    <tr>\n",
       "      <th>2</th>\n",
       "      <td>30</td>\n",
       "      <td>Day of Defeat</td>\n",
       "      <td>1512413490</td>\n",
       "      <td>16899276</td>\n",
       "    </tr>\n",
       "    <tr>\n",
       "      <th>3</th>\n",
       "      <td>40</td>\n",
       "      <td>Deathmatch Classic</td>\n",
       "      <td>1568752159</td>\n",
       "      <td>16899276</td>\n",
       "    </tr>\n",
       "    <tr>\n",
       "      <th>4</th>\n",
       "      <td>50</td>\n",
       "      <td>Half-Life: Opposing Force</td>\n",
       "      <td>1579628243</td>\n",
       "      <td>16899276</td>\n",
       "    </tr>\n",
       "  </tbody>\n",
       "</table>\n",
       "</div>"
      ],
      "text/plain": [
       "   appid                       name  last_modified  price_change_number\n",
       "0     10             Counter-Strike     1666823513             16899276\n",
       "1     20      Team Fortress Classic     1579634708             16899276\n",
       "2     30              Day of Defeat     1512413490             16899276\n",
       "3     40         Deathmatch Classic     1568752159             16899276\n",
       "4     50  Half-Life: Opposing Force     1579628243             16899276"
      ]
     },
     "execution_count": 14,
     "metadata": {},
     "output_type": "execute_result"
    }
   ],
   "source": [
    "def from_last_appid(last_appid, count):\n",
    "    url = f\"https://api.steampowered.com/IStoreService/GetAppList/v1/?key={STEAM_API_KEY}&max_results={count}&last_appid={last_appid}\"\n",
    "    return requests.get(url)\n",
    "\n",
    "response = {\"last_appid\": 0}\n",
    "apps = []\n",
    "\n",
    "while 'last_appid' in response:\n",
    "    result = from_last_appid(response['last_appid'], 50000)\n",
    "    if result.status_code == 200:\n",
    "        response = result.json()['response']\n",
    "        if response != {}:\n",
    "            apps += response['apps']\n",
    "            \n",
    "\n",
    "apps = pd.DataFrame(apps)\n",
    "apps.head()"
   ]
  },
  {
   "cell_type": "code",
   "execution_count": 16,
   "id": "d65ddc93-0b28-4bf4-8445-f97a6cd37afa",
   "metadata": {},
   "outputs": [],
   "source": [
    "apps.to_pickle(\"steam_data.pkl\")"
   ]
  },
  {
   "cell_type": "markdown",
   "id": "7e0f45a9-a7b6-41c4-9890-80fd721b0c8a",
   "metadata": {},
   "source": [
    "# Store Images\n",
    "\n",
    "Luckily, images are a function of the appid, so we can add the urls for them easily."
   ]
  },
  {
   "cell_type": "code",
   "execution_count": null,
   "id": "c08a322a-fdd0-41cf-8e30-bdde924c8d2e",
   "metadata": {},
   "outputs": [],
   "source": [
    "# apps[\"store_image_header\"] = apps[apps["
   ]
  },
  {
   "cell_type": "markdown",
   "id": "cfe9bad2-471f-44f6-b43d-2497ea92a086",
   "metadata": {},
   "source": [
    "# Store Page Scrapping\n",
    "\n",
    "Additional data can be scrapped from the store page, so let's do that now."
   ]
  },
  {
   "cell_type": "code",
   "execution_count": 12,
   "id": "90213c67-8c87-4b01-b1ad-e94272a0bb60",
   "metadata": {},
   "outputs": [],
   "source": [
    "from bs4 import BeautifulSoup"
   ]
  },
  {
   "cell_type": "code",
   "execution_count": 31,
   "id": "bfbeb786-aa4b-4f4c-ac15-6c3580cf35c4",
   "metadata": {},
   "outputs": [],
   "source": [
    "apps[\"description\"] = \"\"\n",
    "apps[\"release_date\"] = \"\"\n",
    "apps[\"game_description\"] = \"\""
   ]
  },
  {
   "cell_type": "code",
   "execution_count": 13,
   "id": "f4c4dccb-9a51-4c3c-a9ac-9becbd926ceb",
   "metadata": {},
   "outputs": [],
   "source": [
    "apps = pd.read_pickle(\"steam_data.pkl\")"
   ]
  },
  {
   "cell_type": "code",
   "execution_count": 33,
   "id": "50301a0f-a36e-40a9-b881-52cf53579f10",
   "metadata": {},
   "outputs": [],
   "source": [
    "def get_steam_page(appid):\n",
    "    return BeautifulSoup(\n",
    "        requests.get(f\"https://store.steampowered.com/app/{appid}\").text, \n",
    "        \"html.parser\"\n",
    "    )\n",
    "\n",
    "def get_steam_store_data(appid):\n",
    "    html = get_steam_page(appid)\n",
    "    apps.loc[apps[\"appid\"] == appid, \"description\"] = doc.find(\"div\", class_=\"game_description_snippet\").text.strip()\n",
    "    apps.loc[apps[\"appid\"] == appid, \"release_date\"] = doc.find(\"div\", class_=\"date\").text.strip()\n",
    "    apps.loc[apps[\"appid\"] == appid, \"game_description\"] = doc.find(\"div\", class_=\"game_area_description\").text.strip()\n"
   ]
  },
  {
   "cell_type": "code",
   "execution_count": null,
   "id": "83a5d707-7d33-4f5c-988b-99b467cfa7d9",
   "metadata": {},
   "outputs": [],
   "source": [
    "for id in apps[apps[\"price\"] == \"\"].appid:\n",
    "    add_to_apps(get_steamspy_page(id))\n",
    "    print(id, \"done\", apps[apps[\"price\"] != \"\"].count().appid, \"pending\",  apps[apps[\"price\"] == \"\"].count().appid)\n"
   ]
  },
  {
   "cell_type": "markdown",
   "id": "440d9faa-9f6b-4b45-bda6-83255771bdee",
   "metadata": {},
   "source": [
    "# SteamSpy Data\n",
    "\n",
    "SteamSpy provides an API with some useful data, so we can add that to the data frame.\n",
    "\n",
    "We first add the fields that we can find in the api:"
   ]
  },
  {
   "cell_type": "code",
   "execution_count": 129,
   "id": "368f8a1a-0315-4266-8cfe-dbc4dbc5429d",
   "metadata": {},
   "outputs": [],
   "source": [
    "# create new columns for data from SteamSpy\n",
    "fields = ['developer', 'publisher', 'score_rank', 'positive', 'negative', 'userscore', 'owners', 'average_forever', 'average_2weeks', 'median_forever', 'median_2weeks', 'price', 'initialprice', 'discount', 'ccu', 'languages', 'genre', 'tags'];\n",
    "\n",
    "app_count = apps.count().appid\n",
    "\n",
    "empty_array = []\n",
    "for i in range(app_count):\n",
    "    empty_array.append(\"\")\n",
    "\n",
    "for field in fields:\n",
    "    apps[field] = empty_array"
   ]
  },
  {
   "cell_type": "markdown",
   "id": "310c3e9f-2690-4440-b6bd-fcbb26579bb2",
   "metadata": {},
   "source": [
    "The next step is to load the existing data, define the methods used to download info, and then run the process"
   ]
  },
  {
   "cell_type": "code",
   "execution_count": 4,
   "id": "bf414ff4-07d2-42cc-b455-85c7ddb4fc6d",
   "metadata": {},
   "outputs": [],
   "source": [
    "apps = pd.read_pickle(\"steam_data.pkl\")"
   ]
  },
  {
   "cell_type": "code",
   "execution_count": 5,
   "id": "09c5adf8-62ce-4f75-bb6f-f83fced3c1a7",
   "metadata": {},
   "outputs": [],
   "source": [
    "def get_steamspy_all(page):\n",
    "    return requests.get(f\"https://steamspy.com/api.php?request=all&page={page}\").json()\n",
    "    \n",
    "def get_steamspy_page(appid):\n",
    "    return requests.get(f\"https://steamspy.com/api.php?request=appdetails&appid={appid}\").json()\n",
    "\n",
    "def add_to_apps(result):\n",
    "    appid = result.pop('appid')\n",
    "\n",
    "    for key in result:\n",
    "        if key != 'tags':\n",
    "            apps.loc[apps['appid'] == appid, key] = result[key]\n",
    "        else:\n",
    "            if result['tags'] != []:\n",
    "                apps.loc[apps['appid'] == appid, \"tags\"] = \", \".join(result['tags'].keys())\n",
    "    apps.to_pickle(\"steam_data.pkl\")\n"
   ]
  },
  {
   "cell_type": "code",
   "execution_count": 6,
   "id": "2cd08426-0548-4b71-bcf0-ba6e6d665581",
   "metadata": {},
   "outputs": [],
   "source": [
    "for id in apps[apps[\"price\"] == \"\"].appid:\n",
    "    add_to_apps(get_steamspy_page(id))\n",
    "    print(id, \"done\", apps[apps[\"price\"] != \"\"].count().appid, \"pending\",  apps[apps[\"price\"] == \"\"].count().appid)\n"
   ]
  },
  {
   "cell_type": "code",
   "execution_count": 278,
   "id": "f7b1e7d1-0e57-4e93-936c-34a73ecb8c29",
   "metadata": {},
   "outputs": [
    {
     "name": "stdout",
     "output_type": "stream",
     "text": [
      "done 9296 pending 67334\n"
     ]
    }
   ],
   "source": [
    "print(\"done\", apps[apps[\"price\"] != \"\"].count().appid, \"pending\",  apps[apps[\"price\"] == \"\"].count().appid)"
   ]
  },
  {
   "cell_type": "code",
   "execution_count": 277,
   "id": "0848d724-483f-4331-8807-2ff86fe45fac",
   "metadata": {},
   "outputs": [],
   "source": [
    "apps.to_pickle(\"steam_data.pkl\")"
   ]
  },
  {
   "cell_type": "code",
   "execution_count": null,
   "id": "484b45b3-0015-4313-bef7-3b285cc972da",
   "metadata": {},
   "outputs": [],
   "source": [
    "# todo: reviews = positive + negative"
   ]
  },
  {
   "cell_type": "code",
   "execution_count": null,
   "id": "ae9693ec-3b82-4c48-bf4b-45d3baaa0ac3",
   "metadata": {},
   "outputs": [],
   "source": [
    "# todo: log(reviews) + histogram"
   ]
  },
  {
   "cell_type": "code",
   "execution_count": null,
   "id": "2713b7fe-c69b-4e4e-a5fd-e0f558963979",
   "metadata": {},
   "outputs": [],
   "source": [
    "# todo: boolean genres"
   ]
  },
  {
   "cell_type": "code",
   "execution_count": null,
   "id": "4f116615-6d47-484c-afc6-7557647915a5",
   "metadata": {},
   "outputs": [],
   "source": [
    "# todo: boolean tags"
   ]
  }
 ],
 "metadata": {
  "kernelspec": {
   "display_name": "Python 3 (ipykernel)",
   "language": "python",
   "name": "python3"
  },
  "language_info": {
   "codemirror_mode": {
    "name": "ipython",
    "version": 3
   },
   "file_extension": ".py",
   "mimetype": "text/x-python",
   "name": "python",
   "nbconvert_exporter": "python",
   "pygments_lexer": "ipython3",
   "version": "3.8.9"
  }
 },
 "nbformat": 4,
 "nbformat_minor": 5
}
