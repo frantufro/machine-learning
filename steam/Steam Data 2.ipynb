{
 "cells": [
  {
   "cell_type": "markdown",
   "id": "86dd2e42-6232-456a-bd76-207ba721beb7",
   "metadata": {},
   "source": [
    "# Steam Data\n",
    "\n",
    "In this notebook I'm adding all the methods required to download game data."
   ]
  },
  {
   "cell_type": "markdown",
   "id": "8192cd9f-547f-4c95-98e7-fa740aeaa7b7",
   "metadata": {
    "tags": []
   },
   "source": [
    "## appids, name and last_modified\n",
    "I want to start by downloading all the information that Steam provides about a game in their API.\n",
    "We do this by calling the IStoreService/GetAppList API endpoint. \n",
    "This returns a maximum of 50k appids. So we need to iterate through multiple pages to download all appids.\n",
    "\n",
    "Whenever we want to update our data, we can start from the last app id from our dataframe."
   ]
  },
  {
   "cell_type": "code",
   "execution_count": 17,
   "id": "21f0d712-d9ed-4983-b52a-df3714744542",
   "metadata": {},
   "outputs": [
    {
     "name": "stdout",
     "output_type": "stream",
     "text": [
      "Defaulting to user installation because normal site-packages is not writeable\n",
      "Requirement already satisfied: pandas in /Users/frantufro/Library/Python/3.8/lib/python/site-packages (1.5.2)\n",
      "Requirement already satisfied: pytz>=2020.1 in /Users/frantufro/Library/Python/3.8/lib/python/site-packages (from pandas) (2022.6)\n",
      "Requirement already satisfied: python-dateutil>=2.8.1 in /Users/frantufro/Library/Python/3.8/lib/python/site-packages (from pandas) (2.8.2)\n",
      "Requirement already satisfied: numpy>=1.20.3 in /Users/frantufro/Library/Python/3.8/lib/python/site-packages (from pandas) (1.23.5)\n",
      "Requirement already satisfied: six>=1.5 in /Applications/Xcode.app/Contents/Developer/Library/Frameworks/Python3.framework/Versions/3.8/lib/python3.8/site-packages (from python-dateutil>=2.8.1->pandas) (1.15.0)\n",
      "Defaulting to user installation because normal site-packages is not writeable\n",
      "Requirement already satisfied: beautifulsoup4 in /Users/frantufro/Library/Python/3.8/lib/python/site-packages (4.11.1)\n",
      "Requirement already satisfied: soupsieve>1.2 in /Users/frantufro/Library/Python/3.8/lib/python/site-packages (from beautifulsoup4) (2.3.2.post1)\n"
     ]
    }
   ],
   "source": [
    "!pip install pandas\n",
    "!pip install beautifulsoup4"
   ]
  },
  {
   "cell_type": "code",
   "execution_count": 253,
   "id": "6364aae8-d5aa-4b3c-9084-aec350a6512b",
   "metadata": {},
   "outputs": [],
   "source": [
    "import requests\n",
    "import json\n",
    "import pandas as pd\n",
    "import numpy as np"
   ]
  },
  {
   "cell_type": "code",
   "execution_count": 251,
   "id": "7889859d-2df7-4e98-be46-f889dcb0dc45",
   "metadata": {},
   "outputs": [],
   "source": [
    "STEAMAPIS_KEY=\"fD9Ddf9K93IJtVk3PbYySF0ghxU\" # Key for https://steamapis.com/\n",
    "STEAM_API_KEY=\"EE167EC066B7A3EBB2F6B2392E72AD42\" # Key for https://api.steampowered.com/"
   ]
  },
  {
   "cell_type": "code",
   "execution_count": 14,
   "id": "668c0bcb-ec88-47ce-924b-02beb62be340",
   "metadata": {},
   "outputs": [
    {
     "data": {
      "text/html": [
       "<div>\n",
       "<style scoped>\n",
       "    .dataframe tbody tr th:only-of-type {\n",
       "        vertical-align: middle;\n",
       "    }\n",
       "\n",
       "    .dataframe tbody tr th {\n",
       "        vertical-align: top;\n",
       "    }\n",
       "\n",
       "    .dataframe thead th {\n",
       "        text-align: right;\n",
       "    }\n",
       "</style>\n",
       "<table border=\"1\" class=\"dataframe\">\n",
       "  <thead>\n",
       "    <tr style=\"text-align: right;\">\n",
       "      <th></th>\n",
       "      <th>appid</th>\n",
       "      <th>name</th>\n",
       "      <th>last_modified</th>\n",
       "      <th>price_change_number</th>\n",
       "    </tr>\n",
       "  </thead>\n",
       "  <tbody>\n",
       "    <tr>\n",
       "      <th>0</th>\n",
       "      <td>10</td>\n",
       "      <td>Counter-Strike</td>\n",
       "      <td>1666823513</td>\n",
       "      <td>16899276</td>\n",
       "    </tr>\n",
       "    <tr>\n",
       "      <th>1</th>\n",
       "      <td>20</td>\n",
       "      <td>Team Fortress Classic</td>\n",
       "      <td>1579634708</td>\n",
       "      <td>16899276</td>\n",
       "    </tr>\n",
       "    <tr>\n",
       "      <th>2</th>\n",
       "      <td>30</td>\n",
       "      <td>Day of Defeat</td>\n",
       "      <td>1512413490</td>\n",
       "      <td>16899276</td>\n",
       "    </tr>\n",
       "    <tr>\n",
       "      <th>3</th>\n",
       "      <td>40</td>\n",
       "      <td>Deathmatch Classic</td>\n",
       "      <td>1568752159</td>\n",
       "      <td>16899276</td>\n",
       "    </tr>\n",
       "    <tr>\n",
       "      <th>4</th>\n",
       "      <td>50</td>\n",
       "      <td>Half-Life: Opposing Force</td>\n",
       "      <td>1579628243</td>\n",
       "      <td>16899276</td>\n",
       "    </tr>\n",
       "  </tbody>\n",
       "</table>\n",
       "</div>"
      ],
      "text/plain": [
       "   appid                       name  last_modified  price_change_number\n",
       "0     10             Counter-Strike     1666823513             16899276\n",
       "1     20      Team Fortress Classic     1579634708             16899276\n",
       "2     30              Day of Defeat     1512413490             16899276\n",
       "3     40         Deathmatch Classic     1568752159             16899276\n",
       "4     50  Half-Life: Opposing Force     1579628243             16899276"
      ]
     },
     "execution_count": 14,
     "metadata": {},
     "output_type": "execute_result"
    }
   ],
   "source": [
    "def from_last_appid(last_appid, count):\n",
    "    url = f\"https://api.steampowered.com/IStoreService/GetAppList/v1/?key={STEAM_API_KEY}&max_results={count}&last_appid={last_appid}\"\n",
    "    return requests.get(url)\n",
    "\n",
    "response = {\"last_appid\": 0}\n",
    "apps = []\n",
    "\n",
    "while 'last_appid' in response:\n",
    "    result = from_last_appid(response['last_appid'], 50000)\n",
    "    if result.status_code == 200:\n",
    "        response = result.json()['response']\n",
    "        if response != {}:\n",
    "            apps += response['apps']\n",
    "            \n",
    "\n",
    "apps = pd.DataFrame(apps)\n",
    "apps.head()"
   ]
  },
  {
   "cell_type": "code",
   "execution_count": 16,
   "id": "d65ddc93-0b28-4bf4-8445-f97a6cd37afa",
   "metadata": {},
   "outputs": [],
   "source": [
    "apps.to_pickle(\"steam_data.pkl\")"
   ]
  },
  {
   "cell_type": "markdown",
   "id": "7e0f45a9-a7b6-41c4-9890-80fd721b0c8a",
   "metadata": {},
   "source": [
    "# Store Images\n",
    "\n",
    "Luckily, images are a function of the appid, so we can add the urls for them easily."
   ]
  },
  {
   "cell_type": "code",
   "execution_count": null,
   "id": "c08a322a-fdd0-41cf-8e30-bdde924c8d2e",
   "metadata": {},
   "outputs": [],
   "source": [
    "apps[\"store_image_header\"] = apps[apps["
   ]
  },
  {
   "cell_type": "markdown",
   "id": "cfe9bad2-471f-44f6-b43d-2497ea92a086",
   "metadata": {},
   "source": [
    "# Store Page Scrapping\n",
    "\n",
    "Additional data can be scrapped from the store page, so let's do that now."
   ]
  },
  {
   "cell_type": "code",
   "execution_count": null,
   "id": "1530d9d4-e4ab-42c2-abd6-76b7f2188002",
   "metadata": {},
   "outputs": [],
   "source": []
  },
  {
   "cell_type": "code",
   "execution_count": null,
   "id": "3b63f474-1d8d-40f0-9f35-5915b7f21529",
   "metadata": {},
   "outputs": [],
   "source": []
  },
  {
   "cell_type": "code",
   "execution_count": 19,
   "id": "90213c67-8c87-4b01-b1ad-e94272a0bb60",
   "metadata": {},
   "outputs": [],
   "source": [
    "from bs4 import BeautifulSoup"
   ]
  },
  {
   "cell_type": "code",
   "execution_count": 97,
   "id": "50301a0f-a36e-40a9-b881-52cf53579f10",
   "metadata": {},
   "outputs": [],
   "source": [
    "def get_steamdb_page(appid):\n",
    "    return requests.get(f\"https://store.steampowered.com/app/{appid}\").text\n",
    "\n",
    "html_doc = get_steamdb_page(10)"
   ]
  },
  {
   "cell_type": "code",
   "execution_count": 98,
   "id": "08900008-ecf1-4d33-b39e-b8067715f54d",
   "metadata": {},
   "outputs": [],
   "source": [
    "doc = BeautifulSoup(html_doc, \"html.parser\")"
   ]
  },
  {
   "cell_type": "code",
   "execution_count": 62,
   "id": "8b95c95e-c27d-46a0-b31e-0451520ec934",
   "metadata": {},
   "outputs": [],
   "source": [
    "description = doc.find(\"div\", class_=\"game_description_snippet\").text.strip()"
   ]
  },
  {
   "cell_type": "code",
   "execution_count": 73,
   "id": "6a64b7ef-25a1-4da9-a08c-023c5c2898a7",
   "metadata": {},
   "outputs": [],
   "source": [
    "header_image = doc.find(\"img\", class_=\"game_header_image_full\")['src']"
   ]
  },
  {
   "cell_type": "code",
   "execution_count": 102,
   "id": "5ddd169e-56e9-48a5-882e-27bdc8230ea2",
   "metadata": {},
   "outputs": [],
   "source": [
    "developers = []\n",
    "for dev in doc.find(\"div\", id=\"developers_list\").find_all(\"a\"):\n",
    "    developers.append(dev.text)\n",
    "developers = \", \".join(developers)"
   ]
  },
  {
   "cell_type": "markdown",
   "id": "440d9faa-9f6b-4b45-bda6-83255771bdee",
   "metadata": {},
   "source": [
    "# SteamSpy Data\n",
    "\n",
    "SteamSpy provides an API with some useful data, so we can add that to the data frame.\n",
    "\n",
    "We first add the fields that we can find in the api:"
   ]
  },
  {
   "cell_type": "code",
   "execution_count": 254,
   "id": "72a67766-74e8-47f2-9e22-fa00a51dcd05",
   "metadata": {},
   "outputs": [],
   "source": [
    "apps = pd.read_pickle(\"steam_data.pkl\")"
   ]
  },
  {
   "cell_type": "code",
   "execution_count": 129,
   "id": "368f8a1a-0315-4266-8cfe-dbc4dbc5429d",
   "metadata": {},
   "outputs": [],
   "source": [
    "fields = ['developer', 'publisher', 'score_rank', 'positive', 'negative', 'userscore', 'owners', 'average_forever', 'average_2weeks', 'median_forever', 'median_2weeks', 'price', 'initialprice', 'discount', 'ccu', 'languages', 'genre', 'tags'];\n",
    "\n",
    "app_count = apps.count().appid\n",
    "\n",
    "empty_array = []\n",
    "for i in range(app_count):\n",
    "    empty_array.append(\"\")\n",
    "\n",
    "for field in fields:\n",
    "    apps[field] = empty_array"
   ]
  },
  {
   "cell_type": "code",
   "execution_count": 281,
   "id": "09c5adf8-62ce-4f75-bb6f-f83fced3c1a7",
   "metadata": {},
   "outputs": [],
   "source": [
    "def get_steamspy_all(page):\n",
    "    return requests.get(f\"https://steamspy.com/api.php?request=all&page={page}\").json()\n",
    "    \n",
    "def get_steamspy_page(appid):\n",
    "    return requests.get(f\"https://steamspy.com/api.php?request=appdetails&appid={appid}\").json()\n",
    "\n",
    "def add_to_apps(result):\n",
    "    appid = result.pop('appid')\n",
    "\n",
    "    for key in result:\n",
    "        if key != 'tags':\n",
    "            apps.loc[apps['appid'] == appid, key] = result[key]\n",
    "        else:\n",
    "            if result['tags'] != []:\n",
    "                apps.loc[apps['appid'] == appid, \"tags\"] = \", \".join(result['tags'].keys())\n",
    "    apps.to_pickle(\"steam_data.pkl\")\n"
   ]
  },
  {
   "cell_type": "code",
   "execution_count": null,
   "id": "2cd08426-0548-4b71-bcf0-ba6e6d665581",
   "metadata": {},
   "outputs": [
    {
     "name": "stdout",
     "output_type": "stream",
     "text": [
      "452000 done 9421 pending 67209\n",
      "452060 done 9422 pending 67208\n",
      "452120 done 9423 pending 67207\n",
      "452180 done 9424 pending 67206\n",
      "452230 done 9425 pending 67205\n",
      "452240 done 9426 pending 67204\n",
      "452320 done 9427 pending 67203\n",
      "452340 done 9428 pending 67202\n",
      "452410 done 9429 pending 67201\n",
      "452420 done 9430 pending 67200\n",
      "452440 done 9431 pending 67199\n",
      "452450 done 9432 pending 67198\n",
      "452510 done 9433 pending 67197\n",
      "452570 done 9434 pending 67196\n",
      "452650 done 9435 pending 67195\n",
      "452710 done 9436 pending 67194\n",
      "452860 done 9437 pending 67193\n",
      "452920 done 9438 pending 67192\n",
      "452930 done 9439 pending 67191\n",
      "452970 done 9440 pending 67190\n",
      "453030 done 9441 pending 67189\n",
      "453090 done 9442 pending 67188\n",
      "453100 done 9443 pending 67187\n",
      "453130 done 9444 pending 67186\n",
      "453220 done 9445 pending 67185\n",
      "453270 done 9446 pending 67184\n",
      "453290 done 9447 pending 67183\n",
      "453300 done 9448 pending 67182\n",
      "453310 done 9449 pending 67181\n",
      "453320 done 9450 pending 67180\n",
      "453340 done 9451 pending 67179\n",
      "453350 done 9452 pending 67178\n",
      "453390 done 9453 pending 67177\n",
      "453470 done 9454 pending 67176\n",
      "453480 done 9455 pending 67175\n",
      "453510 done 9456 pending 67174\n",
      "453650 done 9457 pending 67173\n",
      "453660 done 9458 pending 67172\n",
      "453670 done 9459 pending 67171\n",
      "453690 done 9460 pending 67170\n",
      "453700 done 9461 pending 67169\n",
      "453710 done 9462 pending 67168\n",
      "453720 done 9463 pending 67167\n",
      "453730 done 9464 pending 67166\n",
      "453740 done 9465 pending 67165\n",
      "453750 done 9466 pending 67164\n",
      "453770 done 9467 pending 67163\n",
      "453780 done 9468 pending 67162\n",
      "453790 done 9469 pending 67161\n",
      "453810 done 9470 pending 67160\n",
      "453820 done 9471 pending 67159\n",
      "453830 done 9472 pending 67158\n",
      "453850 done 9473 pending 67157\n",
      "453860 done 9474 pending 67156\n",
      "453870 done 9475 pending 67155\n",
      "453880 done 9476 pending 67154\n",
      "453890 done 9477 pending 67153\n",
      "453900 done 9478 pending 67152\n",
      "453910 done 9479 pending 67151\n",
      "453950 done 9480 pending 67150\n",
      "453960 done 9481 pending 67149\n",
      "453980 done 9482 pending 67148\n",
      "453990 done 9483 pending 67147\n",
      "454000 done 9484 pending 67146\n",
      "454030 done 9485 pending 67145\n",
      "454060 done 9486 pending 67144\n",
      "454070 done 9487 pending 67143\n",
      "454100 done 9488 pending 67142\n",
      "454120 done 9489 pending 67141\n",
      "454130 done 9490 pending 67140\n",
      "454140 done 9491 pending 67139\n",
      "454160 done 9492 pending 67138\n",
      "454170 done 9493 pending 67137\n",
      "454180 done 9494 pending 67136\n",
      "454190 done 9495 pending 67135\n",
      "454200 done 9496 pending 67134\n",
      "454220 done 9497 pending 67133\n",
      "454230 done 9498 pending 67132\n",
      "454240 done 9499 pending 67131\n",
      "454250 done 9500 pending 67130\n",
      "454260 done 9501 pending 67129\n",
      "454320 done 9502 pending 67128\n",
      "454330 done 9503 pending 67127\n",
      "454350 done 9504 pending 67126\n",
      "454380 done 9505 pending 67125\n",
      "454390 done 9506 pending 67124\n",
      "454410 done 9507 pending 67123\n",
      "454420 done 9508 pending 67122\n",
      "454430 done 9509 pending 67121\n",
      "454480 done 9510 pending 67120\n",
      "454520 done 9511 pending 67119\n",
      "454530 done 9512 pending 67118\n",
      "454540 done 9513 pending 67117\n",
      "454570 done 9514 pending 67116\n",
      "454580 done 9515 pending 67115\n",
      "454610 done 9516 pending 67114\n",
      "454630 done 9517 pending 67113\n",
      "454650 done 9518 pending 67112\n",
      "454670 done 9519 pending 67111\n",
      "454690 done 9520 pending 67110\n",
      "454700 done 9521 pending 67109\n",
      "454720 done 9522 pending 67108\n",
      "454730 done 9523 pending 67107\n",
      "454750 done 9524 pending 67106\n",
      "454770 done 9525 pending 67105\n",
      "454780 done 9526 pending 67104\n",
      "454830 done 9527 pending 67103\n",
      "454870 done 9528 pending 67102\n",
      "454890 done 9529 pending 67101\n",
      "454900 done 9530 pending 67100\n",
      "454950 done 9531 pending 67099\n",
      "454970 done 9532 pending 67098\n",
      "455020 done 9533 pending 67097\n",
      "455080 done 9534 pending 67096\n",
      "455100 done 9535 pending 67095\n",
      "455110 done 9536 pending 67094\n",
      "455120 done 9537 pending 67093\n",
      "455190 done 9538 pending 67092\n",
      "455200 done 9539 pending 67091\n",
      "455230 done 9540 pending 67090\n",
      "455290 done 9541 pending 67089\n",
      "455300 done 9542 pending 67088\n",
      "455310 done 9543 pending 67087\n",
      "455340 done 9544 pending 67086\n",
      "455400 done 9545 pending 67085\n",
      "455440 done 9546 pending 67084\n",
      "455490 done 9547 pending 67083\n",
      "455590 done 9548 pending 67082\n",
      "455640 done 9549 pending 67081\n",
      "455690 done 9550 pending 67080\n",
      "455700 done 9551 pending 67079\n",
      "455710 done 9552 pending 67078\n",
      "455770 done 9553 pending 67077\n",
      "455820 done 9554 pending 67076\n",
      "455830 done 9555 pending 67075\n",
      "455910 done 9556 pending 67074\n",
      "455940 done 9557 pending 67073\n",
      "455960 done 9558 pending 67072\n",
      "455970 done 9559 pending 67071\n",
      "455980 done 9560 pending 67070\n",
      "455990 done 9561 pending 67069\n",
      "456090 done 9562 pending 67068\n",
      "456130 done 9563 pending 67067\n",
      "456140 done 9564 pending 67066\n",
      "456160 done 9565 pending 67065\n",
      "456170 done 9566 pending 67064\n",
      "456180 done 9567 pending 67063\n",
      "456210 done 9568 pending 67062\n",
      "456390 done 9569 pending 67061\n",
      "456420 done 9570 pending 67060\n",
      "456430 done 9571 pending 67059\n",
      "456440 done 9572 pending 67058\n",
      "456540 done 9573 pending 67057\n",
      "456650 done 9574 pending 67056\n",
      "456660 done 9575 pending 67055\n",
      "456670 done 9576 pending 67054\n",
      "456690 done 9577 pending 67053\n"
     ]
    }
   ],
   "source": [
    "for id in apps[apps[\"price\"] == \"\"].appid:\n",
    "    add_to_apps(get_steamspy_page(id))\n",
    "    print(id, \"done\", apps[apps[\"price\"] != \"\"].count().appid, \"pending\",  apps[apps[\"price\"] == \"\"].count().appid)\n"
   ]
  },
  {
   "cell_type": "code",
   "execution_count": 278,
   "id": "f7b1e7d1-0e57-4e93-936c-34a73ecb8c29",
   "metadata": {},
   "outputs": [
    {
     "name": "stdout",
     "output_type": "stream",
     "text": [
      "done 9296 pending 67334\n"
     ]
    }
   ],
   "source": [
    "print(\"done\", apps[apps[\"price\"] != \"\"].count().appid, \"pending\",  apps[apps[\"price\"] == \"\"].count().appid)"
   ]
  },
  {
   "cell_type": "code",
   "execution_count": 277,
   "id": "0848d724-483f-4331-8807-2ff86fe45fac",
   "metadata": {},
   "outputs": [],
   "source": [
    "apps.to_pickle(\"steam_data.pkl\")"
   ]
  },
  {
   "cell_type": "code",
   "execution_count": null,
   "id": "484b45b3-0015-4313-bef7-3b285cc972da",
   "metadata": {},
   "outputs": [],
   "source": [
    "# todo: reviews = positive + negative"
   ]
  },
  {
   "cell_type": "code",
   "execution_count": null,
   "id": "ae9693ec-3b82-4c48-bf4b-45d3baaa0ac3",
   "metadata": {},
   "outputs": [],
   "source": [
    "# todo: log(reviews) + histogram"
   ]
  },
  {
   "cell_type": "code",
   "execution_count": null,
   "id": "2713b7fe-c69b-4e4e-a5fd-e0f558963979",
   "metadata": {},
   "outputs": [],
   "source": [
    "# todo: boolean genres"
   ]
  },
  {
   "cell_type": "code",
   "execution_count": null,
   "id": "4f116615-6d47-484c-afc6-7557647915a5",
   "metadata": {},
   "outputs": [],
   "source": [
    "# todo: boolean tags"
   ]
  }
 ],
 "metadata": {
  "kernelspec": {
   "display_name": "Python 3 (ipykernel)",
   "language": "python",
   "name": "python3"
  },
  "language_info": {
   "codemirror_mode": {
    "name": "ipython",
    "version": 3
   },
   "file_extension": ".py",
   "mimetype": "text/x-python",
   "name": "python",
   "nbconvert_exporter": "python",
   "pygments_lexer": "ipython3",
   "version": "3.8.9"
  }
 },
 "nbformat": 4,
 "nbformat_minor": 5
}
